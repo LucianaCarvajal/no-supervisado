{
 "cells": [
  {
   "cell_type": "markdown",
   "id": "165fa68d",
   "metadata": {},
   "source": [
    "# MODELO  NO SUPERVISADO "
   ]
  },
  {
   "cell_type": "code",
   "execution_count": null,
   "id": "5ff491dd",
   "metadata": {},
   "outputs": [],
   "source": [
    "# Se importan las librerías que se utilizarán: \n",
    "import pandas as pd\n",
    "import numpy as np\n",
    "import sklearn\n",
    "import matplotlib.pyplot as plt\n",
    "import seaborn as sns\n",
    "from sklearn.cluster import KMeans\n",
    "import re\n",
    "import array\n",
    "import warnings\n",
    "warnings.filterwarnings('ignore')"
   ]
  },
  {
   "cell_type": "code",
   "execution_count": null,
   "id": "2bfba850",
   "metadata": {},
   "outputs": [],
   "source": [
    "# Se cargan los datasets de puntajes asginados por usuarios de las plataformas\n",
    "punt1 = pd.read_csv('..\\\\datasets\\\\puntajes\\\\1.csv')\n",
    "punt2 = pd.read_csv('..\\\\datasets\\\\puntajes\\\\2.csv')\n",
    "punt3 = pd.read_csv('..\\\\datasets\\\\puntajes\\\\3.csv')\n",
    "punt4 = pd.read_csv('..\\\\datasets\\\\puntajes\\\\4.csv')\n",
    "punt5 = pd.read_csv('..\\\\datasets\\\\puntajes\\\\5.csv')\n",
    "punt6 = pd.read_csv('..\\\\datasets\\\\puntajes\\\\6.csv')\n",
    "punt7 = pd.read_csv('..\\\\datasets\\\\puntajes\\\\7.csv')\n",
    "punt8 = pd.read_csv('..\\\\datasets\\\\puntajes\\\\8.csv')"
   ]
  },
  {
   "cell_type": "code",
   "execution_count": null,
   "id": "dd1f480f",
   "metadata": {},
   "outputs": [],
   "source": [
    "# Se concatenan los datasets\n",
    "punt = pd.concat([punt1, punt2, punt3, punt4, punt5, punt6, punt7, punt8], axis=0, ignore_index=True)\n",
    "punt"
   ]
  },
  {
   "cell_type": "code",
   "execution_count": null,
   "id": "90e25a67",
   "metadata": {},
   "outputs": [],
   "source": [
    "# Se borra la columna timestamp porque no se utilizará\n",
    "punt1 = punt.drop(columns = ['timestamp'])"
   ]
  },
  {
   "cell_type": "code",
   "execution_count": null,
   "id": "2d8f8995",
   "metadata": {},
   "outputs": [],
   "source": [
    "# Se verifica el tipo de dato de cada columna\n",
    "punt1. info()"
   ]
  },
  {
   "cell_type": "code",
   "execution_count": null,
   "id": "da99ad83",
   "metadata": {},
   "outputs": [],
   "source": [
    "# Se verifica que no hayan valores nulos\n",
    "punt1.isna().sum()"
   ]
  },
  {
   "cell_type": "markdown",
   "metadata": {},
   "source": [
    "#### Se hace el filtrado de acuerdo a nuestro dataset para obtener las puntuaciones de sólamente las peliculas que se poseen"
   ]
  },
  {
   "cell_type": "code",
   "execution_count": null,
   "id": "9ecd852c",
   "metadata": {},
   "outputs": [],
   "source": [
    "# Se importa el dataset final (CSV) y se visualiza\n",
    "peliculas5=pd.read_csv(r'..\\\\datasets\\\\peliculas_final.csv')"
   ]
  },
  {
   "cell_type": "code",
   "execution_count": null,
   "metadata": {},
   "outputs": [],
   "source": [
    "# Se realiza el filtrado con la función merge\n",
    "punt2 = pd.merge(punt1, peliculas5, left_on='movieId', right_on='show_id', how='inner')\n",
    "\n",
    "# Se Seleccionan las columnas 'userId', 'rating' y 'movieId'\n",
    "punt2 = punt2[['userId', 'rating', 'movieId']]"
   ]
  },
  {
   "cell_type": "code",
   "execution_count": null,
   "id": "839218ea",
   "metadata": {},
   "outputs": [],
   "source": [
    "# Se crea una columna plataforma con \n",
    "def asignar_plataforma(movieId):\n",
    "    if 'a' in movieId:\n",
    "        return 'Amazon'\n",
    "    elif 'n' in movieId:\n",
    "        return 'Netflix'\n",
    "    elif 'd' in movieId:\n",
    "        return 'Disney'\n",
    "    elif 'h' in movieId:\n",
    "        return 'hulu'\n",
    "    \n",
    "punt2['plataforma'] = punt2['movieId'].apply(asignar_plataforma)"
   ]
  },
  {
   "cell_type": "code",
   "execution_count": null,
   "metadata": {},
   "outputs": [],
   "source": [
    "punt2 = punt2[(punt2['plataforma'] != 'Netflix') & (punt2['plataforma'] != 'Disney')]"
   ]
  },
  {
   "cell_type": "code",
   "execution_count": null,
   "id": "ebc60c8d",
   "metadata": {},
   "outputs": [],
   "source": [
    "# Se realizan códigos para la columna plataforma que posee variables cualitativas\n",
    "map_gender = {'Netflix': 1, 'Amazon': 2, 'Disney': 3}\n",
    "punt2['plataforma'] = punt2['plataforma'].replace(map_gender)"
   ]
  },
  {
   "cell_type": "code",
   "execution_count": null,
   "id": "0b97d859",
   "metadata": {},
   "outputs": [],
   "source": [
    "# Se eliminan las letras de la columan movieId\n",
    "def eliminar_letras(texto):\n",
    "    return re.sub(r'[a-zA-Z]', '', texto)\n",
    "# Se Aplica la función a la columna 'movieId'\n",
    "punt2['movieId'] = punt2['movieId'].apply(eliminar_letras)"
   ]
  },
  {
   "cell_type": "code",
   "execution_count": null,
   "id": "f367e87a",
   "metadata": {},
   "outputs": [],
   "source": [
    "# Se guarda el dataset a csv\n",
    "punt2.to_csv(r'..\\datasets\\punt2.csv', index=False)\n",
    "punt2"
   ]
  },
  {
   "cell_type": "code",
   "execution_count": null,
   "id": "31a7e16e",
   "metadata": {},
   "outputs": [],
   "source": [
    "#Se escalan los datos\n",
    "from sklearn.preprocessing import StandardScaler\n",
    "scaler = StandardScaler()\n",
    "scaler.fit(punt2)\n",
    "punt2_scaled = scaler.transform(punt2)\n",
    "scaler = StandardScaler()\n",
    "scaler.fit"
   ]
  },
  {
   "cell_type": "code",
   "execution_count": null,
   "id": "1e8bdb35",
   "metadata": {},
   "outputs": [],
   "source": [
    "# Se convierte la matriz numpy en un DataFrame\n",
    "punt2_scaled_df = pd.DataFrame(punt2_scaled, columns=punt2.columns)\n",
    "# Se seleccionan las variables\n",
    "x = punt2_scaled_df.iloc[:, [1, 2]]"
   ]
  },
  {
   "cell_type": "code",
   "execution_count": null,
   "id": "1976f658",
   "metadata": {},
   "outputs": [],
   "source": [
    "# Se observa la distribución\n",
    "plt.figure(figsize=(20,8))\n",
    "sns.countplot (x= \"rating\", data=punt2)\n",
    "plt.title(\"Puntaje\")\n",
    "plt.xticks(rotation=90)\n",
    "plt.show () "
   ]
  },
  {
   "cell_type": "code",
   "execution_count": null,
   "id": "1dca421f",
   "metadata": {},
   "outputs": [],
   "source": [
    "# Se realiza el método del codo para determinar la cantidad de clusters\n",
    "k=np. arange(1,11)\n",
    "lista_inercias = []\n",
    "for i in k:\n",
    "    kmeans = KMeans(n_clusters=i, random_state=0) \n",
    "# Instancia la clase KMeans\n",
    "    kmeans.fit(x)  \n",
    "# Ajusta el modelo KMeans a tus datos x\n",
    "    lista_inercias.append(kmeans.inertia_)"
   ]
  },
  {
   "cell_type": "code",
   "execution_count": null,
   "id": "f504275c",
   "metadata": {},
   "outputs": [],
   "source": [
    "# Se grafica el método del codo\n",
    "plt.figure(figsize=(7, 4))\n",
    "plt.plot(k, lista_inercias, marker='o', linestyle='-', color='c')\n",
    "plt.scatter(k, lista_inercias, c='r')\n",
    "plt.xlabel('Cantidad de clusters (k)')\n",
    "plt.ylabel('inercia media')\n",
    "plt.title('The Elbow Method')\n",
    "plt.show()"
   ]
  },
  {
   "cell_type": "code",
   "execution_count": null,
   "id": "9b368cc4",
   "metadata": {},
   "outputs": [],
   "source": [
    "# Se visualiza en otro tipo de gráfico\n",
    "plt.plot(k, marker='o', linestyle='-', color='b')\n",
    "plt.axvline(3, 0, 1, color='red')\n",
    "plt.xlabel('Cantidad de clusters (k)')\n",
    "plt.ylabel('Puntaje del modelo')\n",
    "plt.title('Puntaje del modelo para determinar el número óptimo de clusters')\n",
    "plt.show()"
   ]
  },
  {
   "cell_type": "markdown",
   "id": "c43132fc",
   "metadata": {},
   "source": [
    "La cantidad de cluster a utilizar son 3"
   ]
  },
  {
   "cell_type": "code",
   "execution_count": null,
   "id": "8a22fed6",
   "metadata": {},
   "outputs": [],
   "source": [
    "# Se especifica la cantidad de clusters\n",
    "num_clusters=3\n",
    "\n",
    "# Se crea una instancia del modelo K-Means\n",
    "kmeans = KMeans(n_clusters=num_clusters)\n",
    "\n",
    "# Se ajusta el modelo a tus datos\n",
    "kmeans.fit(x)\n",
    "kmeans.fit(x)\n",
    "kmeans\n",
    "# Se obtiene las etiquetas de clúster para cada punto de datos\n",
    "labels = kmeans.labels_\n",
    "\n",
    "# Se obtiene las coordenadas de los centroides de los clústeres\n",
    "centroids = kmeans.cluster_centers_\n",
    "centroids = kmeans\n",
    "print (centroids)"
   ]
  },
  {
   "cell_type": "code",
   "execution_count": null,
   "id": "549d6542",
   "metadata": {},
   "outputs": [],
   "source": [
    "# Se crea un gráfico de dispersión para visualizar la distribución de los clústeres\n",
    "plt.figure(figsize=(8, 6))\n",
    "sns.scatterplot(x='rating', y='userId', hue='cluster', data=x, palette='viridis')\n",
    "plt.title('Distribución de Clústeres')\n",
    "plt.show()"
   ]
  }
 ],
 "metadata": {
  "kernelspec": {
   "display_name": "Python 3 (ipykernel)",
   "language": "python",
   "name": "python3"
  },
  "language_info": {
   "codemirror_mode": {
    "name": "ipython",
    "version": 3
   },
   "file_extension": ".py",
   "mimetype": "text/x-python",
   "name": "python",
   "nbconvert_exporter": "python",
   "pygments_lexer": "ipython3",
   "version": "3.11.3"
  }
 },
 "nbformat": 4,
 "nbformat_minor": 5
}
